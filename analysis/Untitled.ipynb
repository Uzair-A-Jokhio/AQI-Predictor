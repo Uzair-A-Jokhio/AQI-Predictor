{
 "cells": [
  {
   "cell_type": "code",
   "execution_count": null,
   "id": "e121aa52-c551-4101-8a12-d2d3c7a5265a",
   "metadata": {},
   "outputs": [],
   "source": []
  }
 ],
 "metadata": {
  "kernelspec": {
   "display_name": "python aqi-env",
   "language": "python",
   "name": "aqi-env"
  },
  "language_info": {
   "codemirror_mode": {
    "name": "ipython",
    "version": 3
   },
   "file_extension": ".py",
   "mimetype": "text/x-python",
   "name": "python",
   "nbconvert_exporter": "python",
   "pygments_lexer": "ipython3",
   "version": "3.11.13"
  }
 },
 "nbformat": 4,
 "nbformat_minor": 5
}

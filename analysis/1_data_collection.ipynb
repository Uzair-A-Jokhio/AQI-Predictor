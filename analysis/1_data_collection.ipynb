{
 "cells": [
  {
   "cell_type": "code",
   "execution_count": 1,
   "id": "4e37aa70-8974-46ca-80dd-697442678b11",
   "metadata": {},
   "outputs": [],
   "source": [
    "import requests\n",
    "from dotenv import load_dotenv\n",
    "import os\n",
    "import csv\n",
    "from datetime import datetime, timedelta\n",
    "import time"
   ]
  },
  {
   "cell_type": "code",
   "execution_count": 2,
   "id": "d4421180-7f93-4bcb-84c1-a61973917a71",
   "metadata": {},
   "outputs": [],
   "source": [
    "load_dotenv()\n",
    "API_KEY = os.environ.get(\"OPEN_API\")"
   ]
  },
  {
   "cell_type": "code",
   "execution_count": 3,
   "id": "c996684d-9000-4596-b27b-5dd7c962328a",
   "metadata": {},
   "outputs": [],
   "source": [
    "# Coordinates for Karachi\n",
    "LAT = 24.8608\n",
    "LON = 67.0104\n",
    "\n",
    "# Output CSV file name\n",
    "CSV_FILENAME = \"historical_aqi_karachi.csv\""
   ]
  },
  {
   "cell_type": "code",
   "execution_count": 4,
   "id": "2ae68879-6944-4ee9-8438-2263c8f9272f",
   "metadata": {},
   "outputs": [],
   "source": [
    "# --- Date and Time Calculation ---\n",
    "# Set the end date to today and start date to 6 months (180 days) ago\n",
    "end_date = datetime.now()\n",
    "start_date = end_date - timedelta(days=180)\n",
    "\n",
    "# Convert dates to Unix timestamps for the API\n",
    "start_timestamp = int(start_date.timestamp())\n",
    "end_timestamp = int(end_date.timestamp())"
   ]
  },
  {
   "cell_type": "code",
   "execution_count": 5,
   "id": "70c3643f-ca61-4800-88ea-c9b2d41d6de7",
   "metadata": {},
   "outputs": [
    {
     "name": "stdout",
     "output_type": "stream",
     "text": [
      "Fetching data from 2025-04-19 to 2025-10-16\n"
     ]
    }
   ],
   "source": [
    "print(f\"Fetching data from {start_date.strftime('%Y-%m-%d')} to {end_date.strftime('%Y-%m-%d')}\")"
   ]
  },
  {
   "cell_type": "code",
   "execution_count": 6,
   "id": "e43f8a09-e832-40cf-ba9a-7b3980c0067e",
   "metadata": {},
   "outputs": [],
   "source": [
    "header = [\n",
    "    'readable_timestamp', \n",
    "    'unix_timestamp', \n",
    "    'aqi', \n",
    "    'co', \n",
    "    'no', \n",
    "    'no2', \n",
    "    'o3', \n",
    "    'so2', \n",
    "    'pm2_5', \n",
    "    'pm10', \n",
    "    'nh3'\n",
    "]"
   ]
  },
  {
   "cell_type": "code",
   "execution_count": 7,
   "id": "f18aaee2-6f70-4e08-91ed-8a5e4be6fd32",
   "metadata": {},
   "outputs": [
    {
     "name": "stdout",
     "output_type": "stream",
     "text": [
      "Making API call for the entire 6-month period...\n",
      "Successfully processed 4314 hourly records.\n",
      "\n",
      "Process complete. Data saved to historical_aqi_karachi.csv\n"
     ]
    }
   ],
   "source": [
    "# Open the CSV file in write mode\n",
    "with open(CSV_FILENAME, 'w', newline='') as csvfile:\n",
    "    writer = csv.writer(csvfile)\n",
    "    writer.writerow(header) # Write the header first\n",
    "\n",
    "    # Make the API call to get the entire history in one go\n",
    "    # NOTE: If this fails for very long ranges, you may need to loop day-by-day\n",
    "    url = f\"http://api.openweathermap.org/data/2.5/air_pollution/history?lat={LAT}&lon={LON}&start={start_timestamp}&end={end_timestamp}&appid={API_KEY}\"\n",
    "    \n",
    "    print(\"Making API call for the entire 6-month period...\")\n",
    "    \n",
    "    try:\n",
    "        response = requests.get(url)\n",
    "        # Raise an exception for bad status codes (4xx or 5xx)\n",
    "        response.raise_for_status() \n",
    "        \n",
    "        data = response.json()\n",
    "        \n",
    "        # Check if the 'list' of historical data exists\n",
    "        if 'list' in data:\n",
    "            for record in data['list']:\n",
    "                # Convert unix timestamp to a human-readable string\n",
    "                readable_time = datetime.fromtimestamp(record['dt']).strftime('%Y-%m-%d %H:%M:%S')\n",
    "                \n",
    "                # Extract data for the current row\n",
    "                row = [\n",
    "                    readable_time,\n",
    "                    record['dt'],\n",
    "                    record['main']['aqi'],\n",
    "                    record['components']['co'],\n",
    "                    record['components']['no'],\n",
    "                    record['components']['no2'],\n",
    "                    record['components']['o3'],\n",
    "                    record['components']['so2'],\n",
    "                    record['components']['pm2_5'],\n",
    "                    record['components']['pm10'],\n",
    "                    record['components']['nh3']\n",
    "                ]\n",
    "                # Write the row to the CSV file\n",
    "                writer.writerow(row)\n",
    "            \n",
    "            print(f\"Successfully processed {len(data['list'])} hourly records.\")\n",
    "\n",
    "    except requests.exceptions.HTTPError as err:\n",
    "        print(f\"HTTP Error: {err}\")\n",
    "        print(\"Please ensure your API key is valid and your plan supports historical data.\")\n",
    "    except Exception as err:\n",
    "        print(f\"An unexpected error occurred: {err}\")\n",
    "\n",
    "print(f\"\\nProcess complete. Data saved to {CSV_FILENAME}\")"
   ]
  },
  {
   "cell_type": "code",
   "execution_count": null,
   "id": "20cc9423-94fb-4d53-b8a9-5ba618bf93b8",
   "metadata": {},
   "outputs": [],
   "source": []
  }
 ],
 "metadata": {
  "kernelspec": {
   "display_name": "Python 3 (ipykernel)",
   "language": "python",
   "name": "python3"
  },
  "language_info": {
   "codemirror_mode": {
    "name": "ipython",
    "version": 3
   },
   "file_extension": ".py",
   "mimetype": "text/x-python",
   "name": "python",
   "nbconvert_exporter": "python",
   "pygments_lexer": "ipython3",
   "version": "3.11.13"
  }
 },
 "nbformat": 4,
 "nbformat_minor": 5
}
